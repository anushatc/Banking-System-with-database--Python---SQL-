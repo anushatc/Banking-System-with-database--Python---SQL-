{
 "cells": [
  {
   "cell_type": "code",
   "execution_count": 1,
   "id": "3e6737a7-9e73-481f-8c72-70f2f6ad5b1f",
   "metadata": {},
   "outputs": [],
   "source": [
    "def login():\n",
    "    print(\"Welcome to the ATM system!\")\n",
    "    user_type = input(\"Are you a (1) Account Holder or (2) Administrator? Enter 1 or 2: \")\n",
    "\n",
    "    if user_type == \"1\":\n",
    "        user_account_holder()\n",
    "    elif user_type == \"2\":\n",
    "        admin_login()\n",
    "    else:\n",
    "        print(\"Invalid choice, please select 1 or 2.\")\n",
    "        login()\n",
    "\n",
    "def user_account_holder():\n",
    "    account_number = input(\"Enter your account number: \")\n",
    "    pin = input(\"Enter your PIN: \")\n",
    "    \n",
    "    # Check if the account exists and verify PIN (using dummy data)\n",
    "    if account_number in accounts and accounts[account_number]['pin'] == pin:\n",
    "        print(f\"Hello, {accounts[account_number]['name']}!\")\n",
    "        account_holder_menu(account_number)\n",
    "    else:\n",
    "        print(\"Invalid account number or PIN.\")\n",
    "        login()\n",
    "\n",
    "def admin_login():\n",
    "    # For simplicity, we're assuming admin login is hardcoded\n",
    "    admin_password = input(\"Enter admin password: \")\n",
    "    if admin_password == \"admin123\":\n",
    "        admin_menu()\n",
    "    else:\n",
    "        print(\"Invalid password.\")\n",
    "        login()\n",
    "\n",
    "# Dummy accounts data (instead of a JSON or MySQL database)\n",
    "accounts = {\n",
    "    \"12345\": {\"name\": \"John Doe\", \"pin\": \"1234\", \"balance\": 1000.0},\n",
    "    \"67890\": {\"name\": \"Jane Smith\", \"pin\": \"5678\", \"balance\": 1500.0}\n",
    "}\n",
    "\n"
   ]
  },
  {
   "cell_type": "code",
   "execution_count": 2,
   "id": "6d294c1c-dc64-421f-8142-12a4e5a0c7d5",
   "metadata": {},
   "outputs": [],
   "source": [
    "def account_holder_menu(account_number):\n",
    "    while True:\n",
    "        print(\"\\nWhat would you like to do?\")\n",
    "        print(\"1. Check Balance\")\n",
    "        print(\"2. Withdraw\")\n",
    "        print(\"3. Deposit\")\n",
    "        print(\"4. Logout\")\n",
    "        \n",
    "        choice = input(\"Enter 1, 2, 3, or 4: \")\n",
    "        \n",
    "        if choice == \"1\":\n",
    "            check_balance(account_number)\n",
    "        elif choice == \"2\":\n",
    "            withdraw(account_number)\n",
    "        elif choice == \"3\":\n",
    "            deposit(account_number)\n",
    "        elif choice == \"4\":\n",
    "            print(\"Logging out...\")\n",
    "            login()\n",
    "        else:\n",
    "            print(\"Invalid choice, try again.\")\n",
    "\n",
    "def admin_menu():\n",
    "    while True:\n",
    "        print(\"\\nAdmin Menu:\")\n",
    "        print(\"1. Open Account\")\n",
    "        print(\"2. Close Account\")\n",
    "        print(\"3. Modify Account\")\n",
    "        print(\"4. Logout\")\n",
    "        \n",
    "        choice = input(\"Enter 1, 2, 3, or 4: \")\n",
    "        \n",
    "        if choice == \"1\":\n",
    "            open_account()\n",
    "        elif choice == \"2\":\n",
    "            close_account()\n",
    "        elif choice == \"3\":\n",
    "            modify_account()\n",
    "        elif choice == \"4\":\n",
    "            print(\"Logging out...\")\n",
    "            login()\n",
    "        else:\n",
    "            print(\"Invalid choice, try again.\")\n"
   ]
  },
  {
   "cell_type": "code",
   "execution_count": 3,
   "id": "514ad05a-519d-4f00-b420-fdf60bba276e",
   "metadata": {},
   "outputs": [],
   "source": [
    "def check_balance(account_number):\n",
    "    print(f\"Your current balance is: ${accounts[account_number]['balance']}\")\n",
    "\n",
    "def withdraw(account_number):\n",
    "    amount = float(input(\"Enter amount to withdraw: $\"))\n",
    "    if accounts[account_number]['balance'] >= amount:\n",
    "        accounts[account_number]['balance'] -= amount\n",
    "        print(f\"Withdrawal successful! New balance: ${accounts[account_number]['balance']}\")\n",
    "    else:\n",
    "        print(\"Insufficient balance.\")\n",
    "\n",
    "def deposit(account_number):\n",
    "    amount = float(input(\"Enter amount to deposit: $\"))\n",
    "    accounts[account_number]['balance'] += amount\n",
    "    print(f\"Deposit successful! New balance: ${accounts[account_number]['balance']}\")\n",
    "\n",
    "def open_account():\n",
    "    account_number = input(\"Enter new account number: \")\n",
    "    name = input(\"Enter the account holder's name: \")\n",
    "    pin = input(\"Enter a PIN for the account: \")\n",
    "    if account_number not in accounts:\n",
    "        accounts[account_number] = {\"name\": name, \"pin\": pin, \"balance\": 0.0}\n",
    "        print(\"Account created successfully!\")\n",
    "    else:\n",
    "        print(\"Account number already exists.\")\n",
    "\n",
    "def close_account():\n",
    "    account_number = input(\"Enter the account number to close: \")\n",
    "    if account_number in accounts:\n",
    "        del accounts[account_number]\n",
    "        print(\"Account closed successfully!\")\n",
    "    else:\n",
    "        print(\"Account number not found.\")\n",
    "\n",
    "def modify_account():\n",
    "    account_number = input(\"Enter the account number to modify: \")\n",
    "    if account_number in accounts:\n",
    "        print(f\"Current name: {accounts[account_number]['name']}\")\n",
    "        new_name = input(\"Enter the new name (leave blank to keep current): \")\n",
    "        if new_name:\n",
    "            accounts[account_number]['name'] = new_name\n",
    "        \n",
    "        new_pin = input(\"Enter new PIN (leave blank to keep current): \")\n",
    "        if new_pin:\n",
    "            accounts[account_number]['pin'] = new_pin\n",
    "\n",
    "        print(\"Account modified successfully!\")\n",
    "    else:\n",
    "        print(\"Account number not found.\")\n"
   ]
  },
  {
   "cell_type": "code",
   "execution_count": null,
   "id": "48cf7f88-45a2-415c-8c98-1c54a4d2afff",
   "metadata": {},
   "outputs": [
    {
     "name": "stdout",
     "output_type": "stream",
     "text": [
      "Welcome to the ATM system!\n"
     ]
    },
    {
     "name": "stdin",
     "output_type": "stream",
     "text": [
      "Are you a (1) Account Holder or (2) Administrator? Enter 1 or 2:  1\n",
      "Enter your account number:  12345\n",
      "Enter your PIN:  1234\n"
     ]
    },
    {
     "name": "stdout",
     "output_type": "stream",
     "text": [
      "Hello, John Doe!\n",
      "\n",
      "What would you like to do?\n",
      "1. Check Balance\n",
      "2. Withdraw\n",
      "3. Deposit\n",
      "4. Logout\n"
     ]
    },
    {
     "name": "stdin",
     "output_type": "stream",
     "text": [
      "Enter 1, 2, 3, or 4:  1\n"
     ]
    },
    {
     "name": "stdout",
     "output_type": "stream",
     "text": [
      "Your current balance is: $1000.0\n",
      "\n",
      "What would you like to do?\n",
      "1. Check Balance\n",
      "2. Withdraw\n",
      "3. Deposit\n",
      "4. Logout\n"
     ]
    },
    {
     "name": "stdin",
     "output_type": "stream",
     "text": [
      "Enter 1, 2, 3, or 4:  2\n",
      "Enter amount to withdraw: $ 200\n"
     ]
    },
    {
     "name": "stdout",
     "output_type": "stream",
     "text": [
      "Withdrawal successful! New balance: $800.0\n",
      "\n",
      "What would you like to do?\n",
      "1. Check Balance\n",
      "2. Withdraw\n",
      "3. Deposit\n",
      "4. Logout\n"
     ]
    },
    {
     "name": "stdin",
     "output_type": "stream",
     "text": [
      "Enter 1, 2, 3, or 4:  1\n"
     ]
    },
    {
     "name": "stdout",
     "output_type": "stream",
     "text": [
      "Your current balance is: $800.0\n",
      "\n",
      "What would you like to do?\n",
      "1. Check Balance\n",
      "2. Withdraw\n",
      "3. Deposit\n",
      "4. Logout\n"
     ]
    },
    {
     "name": "stdin",
     "output_type": "stream",
     "text": [
      "Enter 1, 2, 3, or 4:  3\n",
      "Enter amount to deposit: $ 400\n"
     ]
    },
    {
     "name": "stdout",
     "output_type": "stream",
     "text": [
      "Deposit successful! New balance: $1200.0\n",
      "\n",
      "What would you like to do?\n",
      "1. Check Balance\n",
      "2. Withdraw\n",
      "3. Deposit\n",
      "4. Logout\n"
     ]
    },
    {
     "name": "stdin",
     "output_type": "stream",
     "text": [
      "Enter 1, 2, 3, or 4:  1\n"
     ]
    },
    {
     "name": "stdout",
     "output_type": "stream",
     "text": [
      "Your current balance is: $1200.0\n",
      "\n",
      "What would you like to do?\n",
      "1. Check Balance\n",
      "2. Withdraw\n",
      "3. Deposit\n",
      "4. Logout\n"
     ]
    },
    {
     "name": "stdin",
     "output_type": "stream",
     "text": [
      "Enter 1, 2, 3, or 4:  4\n"
     ]
    },
    {
     "name": "stdout",
     "output_type": "stream",
     "text": [
      "Logging out...\n",
      "Welcome to the ATM system!\n"
     ]
    },
    {
     "name": "stdin",
     "output_type": "stream",
     "text": [
      "Are you a (1) Account Holder or (2) Administrator? Enter 1 or 2:  2\n",
      "Enter admin password:  admin123\n"
     ]
    },
    {
     "name": "stdout",
     "output_type": "stream",
     "text": [
      "\n",
      "Admin Menu:\n",
      "1. Open Account\n",
      "2. Close Account\n",
      "3. Modify Account\n",
      "4. Logout\n"
     ]
    },
    {
     "name": "stdin",
     "output_type": "stream",
     "text": [
      "Enter 1, 2, 3, or 4:  1\n",
      "Enter new account number:  13579\n",
      "Enter the account holder's name:  anusha\n",
      "Enter a PIN for the account:  1234\n"
     ]
    },
    {
     "name": "stdout",
     "output_type": "stream",
     "text": [
      "Account created successfully!\n",
      "\n",
      "Admin Menu:\n",
      "1. Open Account\n",
      "2. Close Account\n",
      "3. Modify Account\n",
      "4. Logout\n"
     ]
    },
    {
     "name": "stdin",
     "output_type": "stream",
     "text": [
      "Enter 1, 2, 3, or 4:  4\n"
     ]
    },
    {
     "name": "stdout",
     "output_type": "stream",
     "text": [
      "Logging out...\n",
      "Welcome to the ATM system!\n"
     ]
    },
    {
     "name": "stdin",
     "output_type": "stream",
     "text": [
      "Are you a (1) Account Holder or (2) Administrator? Enter 1 or 2:  1\n",
      "Enter your account number:  13579\n",
      "Enter your PIN:  1234\n"
     ]
    },
    {
     "name": "stdout",
     "output_type": "stream",
     "text": [
      "Hello, anusha!\n",
      "\n",
      "What would you like to do?\n",
      "1. Check Balance\n",
      "2. Withdraw\n",
      "3. Deposit\n",
      "4. Logout\n"
     ]
    },
    {
     "name": "stdin",
     "output_type": "stream",
     "text": [
      "Enter 1, 2, 3, or 4:  1\n"
     ]
    },
    {
     "name": "stdout",
     "output_type": "stream",
     "text": [
      "Your current balance is: $0.0\n",
      "\n",
      "What would you like to do?\n",
      "1. Check Balance\n",
      "2. Withdraw\n",
      "3. Deposit\n",
      "4. Logout\n"
     ]
    },
    {
     "name": "stdin",
     "output_type": "stream",
     "text": [
      "Enter 1, 2, 3, or 4:  4\n"
     ]
    },
    {
     "name": "stdout",
     "output_type": "stream",
     "text": [
      "Logging out...\n",
      "Welcome to the ATM system!\n"
     ]
    },
    {
     "name": "stdin",
     "output_type": "stream",
     "text": [
      "Are you a (1) Account Holder or (2) Administrator? Enter 1 or 2:  2\n",
      "Enter admin password:  admin123\n"
     ]
    },
    {
     "name": "stdout",
     "output_type": "stream",
     "text": [
      "\n",
      "Admin Menu:\n",
      "1. Open Account\n",
      "2. Close Account\n",
      "3. Modify Account\n",
      "4. Logout\n"
     ]
    },
    {
     "name": "stdin",
     "output_type": "stream",
     "text": [
      "Enter 1, 2, 3, or 4:  3\n",
      "Enter the account number to modify:  13579\n"
     ]
    },
    {
     "name": "stdout",
     "output_type": "stream",
     "text": [
      "Current name: anusha\n"
     ]
    },
    {
     "name": "stdin",
     "output_type": "stream",
     "text": [
      "Enter the new name (leave blank to keep current):  nush\n",
      "Enter new PIN (leave blank to keep current):  12345\n"
     ]
    },
    {
     "name": "stdout",
     "output_type": "stream",
     "text": [
      "Account modified successfully!\n",
      "\n",
      "Admin Menu:\n",
      "1. Open Account\n",
      "2. Close Account\n",
      "3. Modify Account\n",
      "4. Logout\n"
     ]
    },
    {
     "name": "stdin",
     "output_type": "stream",
     "text": [
      "Enter 1, 2, 3, or 4:  4\n"
     ]
    },
    {
     "name": "stdout",
     "output_type": "stream",
     "text": [
      "Logging out...\n",
      "Welcome to the ATM system!\n"
     ]
    },
    {
     "name": "stdin",
     "output_type": "stream",
     "text": [
      "Are you a (1) Account Holder or (2) Administrator? Enter 1 or 2:  1\n",
      "Enter your account number:  13579\n",
      "Enter your PIN:  12345\n"
     ]
    },
    {
     "name": "stdout",
     "output_type": "stream",
     "text": [
      "Hello, nush!\n",
      "\n",
      "What would you like to do?\n",
      "1. Check Balance\n",
      "2. Withdraw\n",
      "3. Deposit\n",
      "4. Logout\n"
     ]
    },
    {
     "name": "stdin",
     "output_type": "stream",
     "text": [
      "Enter 1, 2, 3, or 4:  3\n",
      "Enter amount to deposit: $ 500\n"
     ]
    },
    {
     "name": "stdout",
     "output_type": "stream",
     "text": [
      "Deposit successful! New balance: $500.0\n",
      "\n",
      "What would you like to do?\n",
      "1. Check Balance\n",
      "2. Withdraw\n",
      "3. Deposit\n",
      "4. Logout\n"
     ]
    },
    {
     "name": "stdin",
     "output_type": "stream",
     "text": [
      "Enter 1, 2, 3, or 4:  1\n"
     ]
    },
    {
     "name": "stdout",
     "output_type": "stream",
     "text": [
      "Your current balance is: $500.0\n",
      "\n",
      "What would you like to do?\n",
      "1. Check Balance\n",
      "2. Withdraw\n",
      "3. Deposit\n",
      "4. Logout\n"
     ]
    }
   ],
   "source": [
    "if __name__ == \"__main__\":\n",
    "    login()\n"
   ]
  },
  {
   "cell_type": "code",
   "execution_count": null,
   "id": "784fe5c7-37ea-4b8b-a454-743d33eab3d1",
   "metadata": {},
   "outputs": [],
   "source": []
  }
 ],
 "metadata": {
  "kernelspec": {
   "display_name": "Python 3 (ipykernel)",
   "language": "python",
   "name": "python3"
  },
  "language_info": {
   "codemirror_mode": {
    "name": "ipython",
    "version": 3
   },
   "file_extension": ".py",
   "mimetype": "text/x-python",
   "name": "python",
   "nbconvert_exporter": "python",
   "pygments_lexer": "ipython3",
   "version": "3.12.4"
  }
 },
 "nbformat": 4,
 "nbformat_minor": 5
}
